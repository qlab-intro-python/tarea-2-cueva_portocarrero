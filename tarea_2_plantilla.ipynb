{
 "cells": [
  {
   "cell_type": "markdown",
   "metadata": {},
   "source": [
    "# **Tarea Nº 2**"
   ]
  },
  {
   "cell_type": "markdown",
   "metadata": {},
   "source": [
    "Curso:          Fundamentos de Programación en Python para Macroeconomía y Finanzas     \n",
    "Profesor:       Victor Fuentes Campos     "
   ]
  },
  {
   "cell_type": "markdown",
   "metadata": {},
   "source": [
    "- Fecha y hora de entrega: Sábado 6 de enero, 11:59pm\n",
    "- Agregue los nombres de las personas con las que discutió esta tarea: ____ Armando Paredes ______\n",
    "- Envíe su tarea haciendo el `push` de su código a su repo en GitHub Classroom: "
   ]
  },
  {
   "cell_type": "markdown",
   "metadata": {},
   "source": [
    "## Filtering rows"
   ]
  },
  {
   "cell_type": "markdown",
   "metadata": {},
   "source": [
    "1. Import the `flights.csv` dataset. Find all flights that:\n",
    "\n",
    "    a. Had an arrival delay of three or more hours\n",
    "\n",
    "    b. Flew to Houston (IAH or HOU)\n",
    "\n",
    "    c. Were operated by United, American, or Southwest\n",
    "\n",
    "    d. Departed in spring (March, April, and June)\n",
    "\n",
    "    e. Arrived more than two hours late, but didn’t leave late\n",
    "    \n",
    "    f. Were delayed by at least an hour, but made up over 30 minutes in flight 7. Departed between midnight and 5am (inclusive)"
   ]
  },
  {
   "cell_type": "code",
   "execution_count": 4,
   "metadata": {},
   "outputs": [],
   "source": [
    "import pandas as pd"
   ]
  },
  {
   "cell_type": "code",
   "execution_count": 5,
   "metadata": {},
   "outputs": [
    {
     "data": {
      "text/plain": [
       "Index(['Unnamed: 0', 'year', 'month', 'day', 'dep_time', 'sched_dep_time',\n",
       "       'dep_delay', 'arr_time', 'sched_arr_time', 'arr_delay', 'carrier',\n",
       "       'flight', 'tailnum', 'origin', 'dest', 'air_time', 'distance', 'hour',\n",
       "       'minute', 'time_hour'],\n",
       "      dtype='object')"
      ]
     },
     "execution_count": 5,
     "metadata": {},
     "output_type": "execute_result"
    }
   ],
   "source": [
    "df = pd.read_csv(\"flights.csv\")\n",
    "\n",
    "# print(df)\n",
    "df.columns"
   ]
  },
  {
   "cell_type": "code",
   "execution_count": 289,
   "metadata": {},
   "outputs": [
    {
     "data": {
      "text/plain": [
       "-5.0      24821\n",
       "-4.0      24619\n",
       "-3.0      24218\n",
       "-2.0      21516\n",
       "-6.0      20701\n",
       "          ...  \n",
       " 545.0        1\n",
       " 443.0        1\n",
       " 800.0        1\n",
       " 911.0        1\n",
       " 422.0        1\n",
       "Name: dep_delay, Length: 527, dtype: int64"
      ]
     },
     "execution_count": 289,
     "metadata": {},
     "output_type": "execute_result"
    }
   ],
   "source": [
    "df.dep_delay.value_counts()"
   ]
  },
  {
   "cell_type": "code",
   "execution_count": 7,
   "metadata": {},
   "outputs": [
    {
     "data": {
      "text/html": [
       "<div>\n",
       "<style scoped>\n",
       "    .dataframe tbody tr th:only-of-type {\n",
       "        vertical-align: middle;\n",
       "    }\n",
       "\n",
       "    .dataframe tbody tr th {\n",
       "        vertical-align: top;\n",
       "    }\n",
       "\n",
       "    .dataframe thead th {\n",
       "        text-align: right;\n",
       "    }\n",
       "</style>\n",
       "<table border=\"1\" class=\"dataframe\">\n",
       "  <thead>\n",
       "    <tr style=\"text-align: right;\">\n",
       "      <th></th>\n",
       "      <th>Unnamed: 0</th>\n",
       "      <th>year</th>\n",
       "      <th>month</th>\n",
       "      <th>day</th>\n",
       "      <th>dep_time</th>\n",
       "      <th>sched_dep_time</th>\n",
       "      <th>dep_delay</th>\n",
       "      <th>arr_time</th>\n",
       "      <th>sched_arr_time</th>\n",
       "      <th>arr_delay</th>\n",
       "      <th>carrier</th>\n",
       "      <th>flight</th>\n",
       "      <th>tailnum</th>\n",
       "      <th>origin</th>\n",
       "      <th>dest</th>\n",
       "      <th>air_time</th>\n",
       "      <th>distance</th>\n",
       "      <th>hour</th>\n",
       "      <th>minute</th>\n",
       "      <th>time_hour</th>\n",
       "    </tr>\n",
       "  </thead>\n",
       "  <tbody>\n",
       "    <tr>\n",
       "      <th>0</th>\n",
       "      <td>1</td>\n",
       "      <td>2013</td>\n",
       "      <td>1</td>\n",
       "      <td>1</td>\n",
       "      <td>517.0</td>\n",
       "      <td>515</td>\n",
       "      <td>2.0</td>\n",
       "      <td>830.0</td>\n",
       "      <td>819</td>\n",
       "      <td>11.0</td>\n",
       "      <td>UA</td>\n",
       "      <td>1545</td>\n",
       "      <td>N14228</td>\n",
       "      <td>EWR</td>\n",
       "      <td>IAH</td>\n",
       "      <td>227.0</td>\n",
       "      <td>1400</td>\n",
       "      <td>5</td>\n",
       "      <td>15</td>\n",
       "      <td>2013-01-01 05:00:00</td>\n",
       "    </tr>\n",
       "    <tr>\n",
       "      <th>1</th>\n",
       "      <td>2</td>\n",
       "      <td>2013</td>\n",
       "      <td>1</td>\n",
       "      <td>1</td>\n",
       "      <td>533.0</td>\n",
       "      <td>529</td>\n",
       "      <td>4.0</td>\n",
       "      <td>850.0</td>\n",
       "      <td>830</td>\n",
       "      <td>20.0</td>\n",
       "      <td>UA</td>\n",
       "      <td>1714</td>\n",
       "      <td>N24211</td>\n",
       "      <td>LGA</td>\n",
       "      <td>IAH</td>\n",
       "      <td>227.0</td>\n",
       "      <td>1416</td>\n",
       "      <td>5</td>\n",
       "      <td>29</td>\n",
       "      <td>2013-01-01 05:00:00</td>\n",
       "    </tr>\n",
       "    <tr>\n",
       "      <th>2</th>\n",
       "      <td>3</td>\n",
       "      <td>2013</td>\n",
       "      <td>1</td>\n",
       "      <td>1</td>\n",
       "      <td>542.0</td>\n",
       "      <td>540</td>\n",
       "      <td>2.0</td>\n",
       "      <td>923.0</td>\n",
       "      <td>850</td>\n",
       "      <td>33.0</td>\n",
       "      <td>AA</td>\n",
       "      <td>1141</td>\n",
       "      <td>N619AA</td>\n",
       "      <td>JFK</td>\n",
       "      <td>MIA</td>\n",
       "      <td>160.0</td>\n",
       "      <td>1089</td>\n",
       "      <td>5</td>\n",
       "      <td>40</td>\n",
       "      <td>2013-01-01 05:00:00</td>\n",
       "    </tr>\n",
       "    <tr>\n",
       "      <th>5</th>\n",
       "      <td>6</td>\n",
       "      <td>2013</td>\n",
       "      <td>1</td>\n",
       "      <td>1</td>\n",
       "      <td>554.0</td>\n",
       "      <td>558</td>\n",
       "      <td>-4.0</td>\n",
       "      <td>740.0</td>\n",
       "      <td>728</td>\n",
       "      <td>12.0</td>\n",
       "      <td>UA</td>\n",
       "      <td>1696</td>\n",
       "      <td>N39463</td>\n",
       "      <td>EWR</td>\n",
       "      <td>ORD</td>\n",
       "      <td>150.0</td>\n",
       "      <td>719</td>\n",
       "      <td>5</td>\n",
       "      <td>58</td>\n",
       "      <td>2013-01-01 05:00:00</td>\n",
       "    </tr>\n",
       "    <tr>\n",
       "      <th>6</th>\n",
       "      <td>7</td>\n",
       "      <td>2013</td>\n",
       "      <td>1</td>\n",
       "      <td>1</td>\n",
       "      <td>555.0</td>\n",
       "      <td>600</td>\n",
       "      <td>-5.0</td>\n",
       "      <td>913.0</td>\n",
       "      <td>854</td>\n",
       "      <td>19.0</td>\n",
       "      <td>B6</td>\n",
       "      <td>507</td>\n",
       "      <td>N516JB</td>\n",
       "      <td>EWR</td>\n",
       "      <td>FLL</td>\n",
       "      <td>158.0</td>\n",
       "      <td>1065</td>\n",
       "      <td>6</td>\n",
       "      <td>0</td>\n",
       "      <td>2013-01-01 06:00:00</td>\n",
       "    </tr>\n",
       "    <tr>\n",
       "      <th>...</th>\n",
       "      <td>...</td>\n",
       "      <td>...</td>\n",
       "      <td>...</td>\n",
       "      <td>...</td>\n",
       "      <td>...</td>\n",
       "      <td>...</td>\n",
       "      <td>...</td>\n",
       "      <td>...</td>\n",
       "      <td>...</td>\n",
       "      <td>...</td>\n",
       "      <td>...</td>\n",
       "      <td>...</td>\n",
       "      <td>...</td>\n",
       "      <td>...</td>\n",
       "      <td>...</td>\n",
       "      <td>...</td>\n",
       "      <td>...</td>\n",
       "      <td>...</td>\n",
       "      <td>...</td>\n",
       "      <td>...</td>\n",
       "    </tr>\n",
       "    <tr>\n",
       "      <th>336758</th>\n",
       "      <td>336759</td>\n",
       "      <td>2013</td>\n",
       "      <td>9</td>\n",
       "      <td>30</td>\n",
       "      <td>2203.0</td>\n",
       "      <td>2205</td>\n",
       "      <td>-2.0</td>\n",
       "      <td>2339.0</td>\n",
       "      <td>2331</td>\n",
       "      <td>8.0</td>\n",
       "      <td>EV</td>\n",
       "      <td>5311</td>\n",
       "      <td>N722EV</td>\n",
       "      <td>LGA</td>\n",
       "      <td>BGR</td>\n",
       "      <td>61.0</td>\n",
       "      <td>378</td>\n",
       "      <td>22</td>\n",
       "      <td>5</td>\n",
       "      <td>2013-09-30 22:00:00</td>\n",
       "    </tr>\n",
       "    <tr>\n",
       "      <th>336759</th>\n",
       "      <td>336760</td>\n",
       "      <td>2013</td>\n",
       "      <td>9</td>\n",
       "      <td>30</td>\n",
       "      <td>2207.0</td>\n",
       "      <td>2140</td>\n",
       "      <td>27.0</td>\n",
       "      <td>2257.0</td>\n",
       "      <td>2250</td>\n",
       "      <td>7.0</td>\n",
       "      <td>MQ</td>\n",
       "      <td>3660</td>\n",
       "      <td>N532MQ</td>\n",
       "      <td>LGA</td>\n",
       "      <td>BNA</td>\n",
       "      <td>97.0</td>\n",
       "      <td>764</td>\n",
       "      <td>21</td>\n",
       "      <td>40</td>\n",
       "      <td>2013-09-30 21:00:00</td>\n",
       "    </tr>\n",
       "    <tr>\n",
       "      <th>336760</th>\n",
       "      <td>336761</td>\n",
       "      <td>2013</td>\n",
       "      <td>9</td>\n",
       "      <td>30</td>\n",
       "      <td>2211.0</td>\n",
       "      <td>2059</td>\n",
       "      <td>72.0</td>\n",
       "      <td>2339.0</td>\n",
       "      <td>2242</td>\n",
       "      <td>57.0</td>\n",
       "      <td>EV</td>\n",
       "      <td>4672</td>\n",
       "      <td>N12145</td>\n",
       "      <td>EWR</td>\n",
       "      <td>STL</td>\n",
       "      <td>120.0</td>\n",
       "      <td>872</td>\n",
       "      <td>20</td>\n",
       "      <td>59</td>\n",
       "      <td>2013-09-30 20:00:00</td>\n",
       "    </tr>\n",
       "    <tr>\n",
       "      <th>336762</th>\n",
       "      <td>336763</td>\n",
       "      <td>2013</td>\n",
       "      <td>9</td>\n",
       "      <td>30</td>\n",
       "      <td>2233.0</td>\n",
       "      <td>2113</td>\n",
       "      <td>80.0</td>\n",
       "      <td>112.0</td>\n",
       "      <td>30</td>\n",
       "      <td>42.0</td>\n",
       "      <td>UA</td>\n",
       "      <td>471</td>\n",
       "      <td>N578UA</td>\n",
       "      <td>EWR</td>\n",
       "      <td>SFO</td>\n",
       "      <td>318.0</td>\n",
       "      <td>2565</td>\n",
       "      <td>21</td>\n",
       "      <td>13</td>\n",
       "      <td>2013-09-30 21:00:00</td>\n",
       "    </tr>\n",
       "    <tr>\n",
       "      <th>336763</th>\n",
       "      <td>336764</td>\n",
       "      <td>2013</td>\n",
       "      <td>9</td>\n",
       "      <td>30</td>\n",
       "      <td>2235.0</td>\n",
       "      <td>2001</td>\n",
       "      <td>154.0</td>\n",
       "      <td>59.0</td>\n",
       "      <td>2249</td>\n",
       "      <td>130.0</td>\n",
       "      <td>B6</td>\n",
       "      <td>1083</td>\n",
       "      <td>N804JB</td>\n",
       "      <td>JFK</td>\n",
       "      <td>MCO</td>\n",
       "      <td>123.0</td>\n",
       "      <td>944</td>\n",
       "      <td>20</td>\n",
       "      <td>1</td>\n",
       "      <td>2013-09-30 20:00:00</td>\n",
       "    </tr>\n",
       "  </tbody>\n",
       "</table>\n",
       "<p>123096 rows × 20 columns</p>\n",
       "</div>"
      ],
      "text/plain": [
       "        Unnamed: 0  year  month  day  dep_time  sched_dep_time  dep_delay  \\\n",
       "0                1  2013      1    1     517.0             515        2.0   \n",
       "1                2  2013      1    1     533.0             529        4.0   \n",
       "2                3  2013      1    1     542.0             540        2.0   \n",
       "5                6  2013      1    1     554.0             558       -4.0   \n",
       "6                7  2013      1    1     555.0             600       -5.0   \n",
       "...            ...   ...    ...  ...       ...             ...        ...   \n",
       "336758      336759  2013      9   30    2203.0            2205       -2.0   \n",
       "336759      336760  2013      9   30    2207.0            2140       27.0   \n",
       "336760      336761  2013      9   30    2211.0            2059       72.0   \n",
       "336762      336763  2013      9   30    2233.0            2113       80.0   \n",
       "336763      336764  2013      9   30    2235.0            2001      154.0   \n",
       "\n",
       "        arr_time  sched_arr_time  arr_delay carrier  flight tailnum origin  \\\n",
       "0          830.0             819       11.0      UA    1545  N14228    EWR   \n",
       "1          850.0             830       20.0      UA    1714  N24211    LGA   \n",
       "2          923.0             850       33.0      AA    1141  N619AA    JFK   \n",
       "5          740.0             728       12.0      UA    1696  N39463    EWR   \n",
       "6          913.0             854       19.0      B6     507  N516JB    EWR   \n",
       "...          ...             ...        ...     ...     ...     ...    ...   \n",
       "336758    2339.0            2331        8.0      EV    5311  N722EV    LGA   \n",
       "336759    2257.0            2250        7.0      MQ    3660  N532MQ    LGA   \n",
       "336760    2339.0            2242       57.0      EV    4672  N12145    EWR   \n",
       "336762     112.0              30       42.0      UA     471  N578UA    EWR   \n",
       "336763      59.0            2249      130.0      B6    1083  N804JB    JFK   \n",
       "\n",
       "       dest  air_time  distance  hour  minute            time_hour  \n",
       "0       IAH     227.0      1400     5      15  2013-01-01 05:00:00  \n",
       "1       IAH     227.0      1416     5      29  2013-01-01 05:00:00  \n",
       "2       MIA     160.0      1089     5      40  2013-01-01 05:00:00  \n",
       "5       ORD     150.0       719     5      58  2013-01-01 05:00:00  \n",
       "6       FLL     158.0      1065     6       0  2013-01-01 06:00:00  \n",
       "...     ...       ...       ...   ...     ...                  ...  \n",
       "336758  BGR      61.0       378    22       5  2013-09-30 22:00:00  \n",
       "336759  BNA      97.0       764    21      40  2013-09-30 21:00:00  \n",
       "336760  STL     120.0       872    20      59  2013-09-30 20:00:00  \n",
       "336762  SFO     318.0      2565    21      13  2013-09-30 21:00:00  \n",
       "336763  MCO     123.0       944    20       1  2013-09-30 20:00:00  \n",
       "\n",
       "[123096 rows x 20 columns]"
      ]
     },
     "execution_count": 7,
     "metadata": {},
     "output_type": "execute_result"
    }
   ],
   "source": [
    "# Solution\n",
    "df.arr_delay\n",
    "\n",
    "aa = df.loc[ (df.arr_delay >= 3)  , : ]   #6*3\n",
    "aa"
   ]
  },
  {
   "cell_type": "code",
   "execution_count": 291,
   "metadata": {},
   "outputs": [],
   "source": [
    "# Solution\n",
    "bb = df.loc[(df.dest == \"IAH\") | (df.dest == \"HOU\") ]\n",
    "#bb"
   ]
  },
  {
   "cell_type": "code",
   "execution_count": 292,
   "metadata": {},
   "outputs": [],
   "source": [
    "cc = df.loc[(df.carrier == \"UA\") | (df.carrier == \"AA\") | (df.carrier == \"WN\") ]\n",
    "# cc"
   ]
  },
  {
   "cell_type": "code",
   "execution_count": 293,
   "metadata": {},
   "outputs": [],
   "source": [
    "#march, april and june 3,4,6   df.month.value_counts\n",
    "dd = df.loc[(df.month == 3)|(df.month == 4)|(df.month == 6)]\n",
    "# dd"
   ]
  },
  {
   "cell_type": "code",
   "execution_count": 294,
   "metadata": {},
   "outputs": [],
   "source": [
    "ee = df.loc[(df['arr_delay'] > 120) & (df['dep_delay'] <= 0)]\n",
    "# ee"
   ]
  },
  {
   "cell_type": "code",
   "execution_count": 295,
   "metadata": {},
   "outputs": [
    {
     "data": {
      "text/plain": [
       "<AxesSubplot:>"
      ]
     },
     "execution_count": 295,
     "metadata": {},
     "output_type": "execute_result"
    },
    {
     "data": {
      "image/png": "[encoded data removed]",
      "text/plain": [
       "<Figure size 640x480 with 1 Axes>"
      ]
     },
     "metadata": {},
     "output_type": "display_data"
    }
   ],
   "source": [
    "df.hour.hist(bins=56)  #df['time_hour'] = pd.to_datetime(df['time_hour']) # df['hour'] = df['time_hour'].dt.hour.hist()\n"
   ]
  },
  {
   "cell_type": "code",
   "execution_count": 296,
   "metadata": {},
   "outputs": [
    {
     "data": {
      "text/html": [
       "<div>\n",
       "<style scoped>\n",
       "    .dataframe tbody tr th:only-of-type {\n",
       "        vertical-align: middle;\n",
       "    }\n",
       "\n",
       "    .dataframe tbody tr th {\n",
       "        vertical-align: top;\n",
       "    }\n",
       "\n",
       "    .dataframe thead th {\n",
       "        text-align: right;\n",
       "    }\n",
       "</style>\n",
       "<table border=\"1\" class=\"dataframe\">\n",
       "  <thead>\n",
       "    <tr style=\"text-align: right;\">\n",
       "      <th></th>\n",
       "      <th>Unnamed: 0</th>\n",
       "      <th>year</th>\n",
       "      <th>month</th>\n",
       "      <th>day</th>\n",
       "      <th>dep_time</th>\n",
       "      <th>sched_dep_time</th>\n",
       "      <th>dep_delay</th>\n",
       "      <th>arr_time</th>\n",
       "      <th>sched_arr_time</th>\n",
       "      <th>arr_delay</th>\n",
       "      <th>carrier</th>\n",
       "      <th>flight</th>\n",
       "      <th>tailnum</th>\n",
       "      <th>origin</th>\n",
       "      <th>dest</th>\n",
       "      <th>air_time</th>\n",
       "      <th>distance</th>\n",
       "      <th>hour</th>\n",
       "      <th>minute</th>\n",
       "      <th>time_hour</th>\n",
       "    </tr>\n",
       "  </thead>\n",
       "  <tbody>\n",
       "  </tbody>\n",
       "</table>\n",
       "</div>"
      ],
      "text/plain": [
       "Empty DataFrame\n",
       "Columns: [Unnamed: 0, year, month, day, dep_time, sched_dep_time, dep_delay, arr_time, sched_arr_time, arr_delay, carrier, flight, tailnum, origin, dest, air_time, distance, hour, minute, time_hour]\n",
       "Index: []"
      ]
     },
     "execution_count": 296,
     "metadata": {},
     "output_type": "execute_result"
    }
   ],
   "source": [
    "# Were delayed by at least an hour, but made up over 30 minutes in flight 7. Departed between midnight and 5am (inclusive)\n",
    "\n",
    "df['time_hour'] = pd.to_datetime(df['time_hour'])\n",
    "df['hour'] = df['time_hour'].dt.hour\n",
    "\n",
    "ff = df.loc[\n",
    "    (df['dep_delay'] >= 60) &\n",
    "    (df['arr_delay'] > 30) &\n",
    "    (df['flight'] == 7) &\n",
    "    (df['hour'] >= 0) & (df['hour'] <= 5)]\n",
    "ff\n",
    "\n",
    "#NO hay info"
   ]
  },
  {
   "cell_type": "code",
   "execution_count": 8,
   "metadata": {},
   "outputs": [],
   "source": [
    "# GRading: -0.5"
   ]
  },
  {
   "cell_type": "markdown",
   "metadata": {},
   "source": [
    "2. How many flights have a missing dep_time? What other variables are missing? What might these rows represent?"
   ]
  },
  {
   "cell_type": "code",
   "execution_count": 297,
   "metadata": {},
   "outputs": [
    {
     "name": "stdout",
     "output_type": "stream",
     "text": [
      "8255\n"
     ]
    },
    {
     "data": {
      "text/plain": [
       "Unnamed: 0           0\n",
       "year                 0\n",
       "month                0\n",
       "day                  0\n",
       "dep_time          8255\n",
       "sched_dep_time       0\n",
       "dep_delay         8255\n",
       "arr_time          8713\n",
       "sched_arr_time       0\n",
       "arr_delay         9430\n",
       "carrier              0\n",
       "flight               0\n",
       "tailnum           2512\n",
       "origin               0\n",
       "dest                 0\n",
       "air_time          9430\n",
       "distance             0\n",
       "hour                 0\n",
       "minute               0\n",
       "time_hour            0\n",
       "dtype: int64"
      ]
     },
     "execution_count": 297,
     "metadata": {},
     "output_type": "execute_result"
    }
   ],
   "source": [
    "ex2 = df.dep_time\n",
    "\n",
    "print(ex2.isna().sum()) #tiene 8255\n",
    "\n",
    "df.isna().sum() #\n",
    "\n",
    "# Problemas técnicos o errores en la grabación de datos,\n",
    "#cancelaciones o vuelos no realizados u \n",
    "#otros problemas logísticos o administrativos"
   ]
  },
  {
   "cell_type": "markdown",
   "metadata": {},
   "source": [
    "3. What happens to observations **with missing values in `arr_time`** when you filter by **`arr_time == 1800`**? Why? (Hint: compare `2000 == 1800`, `1800 == 1800`, and `NA == 1800`)."
   ]
  },
  {
   "cell_type": "code",
   "execution_count": 298,
   "metadata": {},
   "outputs": [],
   "source": [
    "# # Solution\n",
    "# ex3 = df.loc[df['arr_time']==1800]\n",
    "\n",
    "# en las comparaciones lógicas, cualquier operación que involucre valores \n",
    "# faltantes generalmente da como resultado NA o False, y eso afecta la inclusión \n",
    "# de observaciones en conjuntos filtrados\n",
    "\n"
   ]
  },
  {
   "cell_type": "markdown",
   "metadata": {},
   "source": [
    "4. What does `False & None` evaluate to? Why?"
   ]
  },
  {
   "cell_type": "markdown",
   "metadata": {},
   "source": [
    "La expresión False & None se evalúa como False. Esto se debe a que en las operaciones de bits (&), False se representa como 0 y None se considera como 0 también. Entonces, la operación 0 & 0 da como resultado 0, que es equivalente a False en el contexto booleano.\n",
    "\n",
    "Es importante tener en cuenta que en Python, False y None son diferentes, pero en contextos booleanos, ambos se consideran falsos. Sin embargo, en operaciones de bits, False se trata como 0, mientras que None se evalúa como NoneType."
   ]
  },
  {
   "cell_type": "markdown",
   "metadata": {},
   "source": [
    "## Select columns"
   ]
  },
  {
   "cell_type": "markdown",
   "metadata": {},
   "source": [
    "5. Brainstorm as many distinct ways as possible to select `dep_time`, `dep_delay`, `arr_time`, and `arr_delay` from `flights`."
   ]
  },
  {
   "cell_type": "code",
   "execution_count": 299,
   "metadata": {},
   "outputs": [
    {
     "data": {
      "text/html": [
       "<div>\n",
       "<style scoped>\n",
       "    .dataframe tbody tr th:only-of-type {\n",
       "        vertical-align: middle;\n",
       "    }\n",
       "\n",
       "    .dataframe tbody tr th {\n",
       "        vertical-align: top;\n",
       "    }\n",
       "\n",
       "    .dataframe thead th {\n",
       "        text-align: right;\n",
       "    }\n",
       "</style>\n",
       "<table border=\"1\" class=\"dataframe\">\n",
       "  <thead>\n",
       "    <tr style=\"text-align: right;\">\n",
       "      <th></th>\n",
       "      <th>dep_time</th>\n",
       "      <th>dep_delay</th>\n",
       "      <th>arr_time</th>\n",
       "      <th>arr_delay</th>\n",
       "    </tr>\n",
       "  </thead>\n",
       "  <tbody>\n",
       "    <tr>\n",
       "      <th>0</th>\n",
       "      <td>517.0</td>\n",
       "      <td>2.0</td>\n",
       "      <td>830.0</td>\n",
       "      <td>11.0</td>\n",
       "    </tr>\n",
       "    <tr>\n",
       "      <th>1</th>\n",
       "      <td>533.0</td>\n",
       "      <td>4.0</td>\n",
       "      <td>850.0</td>\n",
       "      <td>20.0</td>\n",
       "    </tr>\n",
       "    <tr>\n",
       "      <th>2</th>\n",
       "      <td>542.0</td>\n",
       "      <td>2.0</td>\n",
       "      <td>923.0</td>\n",
       "      <td>33.0</td>\n",
       "    </tr>\n",
       "    <tr>\n",
       "      <th>3</th>\n",
       "      <td>544.0</td>\n",
       "      <td>-1.0</td>\n",
       "      <td>1004.0</td>\n",
       "      <td>-18.0</td>\n",
       "    </tr>\n",
       "    <tr>\n",
       "      <th>4</th>\n",
       "      <td>554.0</td>\n",
       "      <td>-6.0</td>\n",
       "      <td>812.0</td>\n",
       "      <td>-25.0</td>\n",
       "    </tr>\n",
       "    <tr>\n",
       "      <th>...</th>\n",
       "      <td>...</td>\n",
       "      <td>...</td>\n",
       "      <td>...</td>\n",
       "      <td>...</td>\n",
       "    </tr>\n",
       "    <tr>\n",
       "      <th>336771</th>\n",
       "      <td>NaN</td>\n",
       "      <td>NaN</td>\n",
       "      <td>NaN</td>\n",
       "      <td>NaN</td>\n",
       "    </tr>\n",
       "    <tr>\n",
       "      <th>336772</th>\n",
       "      <td>NaN</td>\n",
       "      <td>NaN</td>\n",
       "      <td>NaN</td>\n",
       "      <td>NaN</td>\n",
       "    </tr>\n",
       "    <tr>\n",
       "      <th>336773</th>\n",
       "      <td>NaN</td>\n",
       "      <td>NaN</td>\n",
       "      <td>NaN</td>\n",
       "      <td>NaN</td>\n",
       "    </tr>\n",
       "    <tr>\n",
       "      <th>336774</th>\n",
       "      <td>NaN</td>\n",
       "      <td>NaN</td>\n",
       "      <td>NaN</td>\n",
       "      <td>NaN</td>\n",
       "    </tr>\n",
       "    <tr>\n",
       "      <th>336775</th>\n",
       "      <td>NaN</td>\n",
       "      <td>NaN</td>\n",
       "      <td>NaN</td>\n",
       "      <td>NaN</td>\n",
       "    </tr>\n",
       "  </tbody>\n",
       "</table>\n",
       "<p>336776 rows × 4 columns</p>\n",
       "</div>"
      ],
      "text/plain": [
       "        dep_time  dep_delay  arr_time  arr_delay\n",
       "0          517.0        2.0     830.0       11.0\n",
       "1          533.0        4.0     850.0       20.0\n",
       "2          542.0        2.0     923.0       33.0\n",
       "3          544.0       -1.0    1004.0      -18.0\n",
       "4          554.0       -6.0     812.0      -25.0\n",
       "...          ...        ...       ...        ...\n",
       "336771       NaN        NaN       NaN        NaN\n",
       "336772       NaN        NaN       NaN        NaN\n",
       "336773       NaN        NaN       NaN        NaN\n",
       "336774       NaN        NaN       NaN        NaN\n",
       "336775       NaN        NaN       NaN        NaN\n",
       "\n",
       "[336776 rows x 4 columns]"
      ]
     },
     "execution_count": 299,
     "metadata": {},
     "output_type": "execute_result"
    }
   ],
   "source": [
    "# Solution\n",
    "df.dep_time,df.dep_delay, df.arr_time, df.arr_delay\n",
    "df.flight\n",
    "\n",
    "a1 = df[['dep_time', 'dep_delay', 'arr_time', 'arr_delay']]\n",
    "a1\n"
   ]
  },
  {
   "cell_type": "code",
   "execution_count": 300,
   "metadata": {},
   "outputs": [
    {
     "name": "stderr",
     "output_type": "stream",
     "text": [
      "C:\\Users\\HP SUPPORT\\AppData\\Local\\Temp\\ipykernel_25384\\654248336.py:23: FutureWarning: Passing lists as key for xs is deprecated and will be removed in a future version. Pass key as a tuple instead.\n",
      "  df.xs(['dep_time', 'dep_delay', 'arr_time', 'arr_delay'], axis=1)\n"
     ]
    },
    {
     "data": {
      "text/html": [
       "<div>\n",
       "<style scoped>\n",
       "    .dataframe tbody tr th:only-of-type {\n",
       "        vertical-align: middle;\n",
       "    }\n",
       "\n",
       "    .dataframe tbody tr th {\n",
       "        vertical-align: top;\n",
       "    }\n",
       "\n",
       "    .dataframe thead th {\n",
       "        text-align: right;\n",
       "    }\n",
       "</style>\n",
       "<table border=\"1\" class=\"dataframe\">\n",
       "  <thead>\n",
       "    <tr style=\"text-align: right;\">\n",
       "      <th></th>\n",
       "      <th>dep_time</th>\n",
       "      <th>dep_delay</th>\n",
       "      <th>arr_time</th>\n",
       "      <th>arr_delay</th>\n",
       "    </tr>\n",
       "  </thead>\n",
       "  <tbody>\n",
       "    <tr>\n",
       "      <th>0</th>\n",
       "      <td>517.0</td>\n",
       "      <td>2.0</td>\n",
       "      <td>830.0</td>\n",
       "      <td>11.0</td>\n",
       "    </tr>\n",
       "    <tr>\n",
       "      <th>1</th>\n",
       "      <td>533.0</td>\n",
       "      <td>4.0</td>\n",
       "      <td>850.0</td>\n",
       "      <td>20.0</td>\n",
       "    </tr>\n",
       "    <tr>\n",
       "      <th>2</th>\n",
       "      <td>542.0</td>\n",
       "      <td>2.0</td>\n",
       "      <td>923.0</td>\n",
       "      <td>33.0</td>\n",
       "    </tr>\n",
       "    <tr>\n",
       "      <th>3</th>\n",
       "      <td>544.0</td>\n",
       "      <td>-1.0</td>\n",
       "      <td>1004.0</td>\n",
       "      <td>-18.0</td>\n",
       "    </tr>\n",
       "    <tr>\n",
       "      <th>4</th>\n",
       "      <td>554.0</td>\n",
       "      <td>-6.0</td>\n",
       "      <td>812.0</td>\n",
       "      <td>-25.0</td>\n",
       "    </tr>\n",
       "    <tr>\n",
       "      <th>...</th>\n",
       "      <td>...</td>\n",
       "      <td>...</td>\n",
       "      <td>...</td>\n",
       "      <td>...</td>\n",
       "    </tr>\n",
       "    <tr>\n",
       "      <th>336771</th>\n",
       "      <td>NaN</td>\n",
       "      <td>NaN</td>\n",
       "      <td>NaN</td>\n",
       "      <td>NaN</td>\n",
       "    </tr>\n",
       "    <tr>\n",
       "      <th>336772</th>\n",
       "      <td>NaN</td>\n",
       "      <td>NaN</td>\n",
       "      <td>NaN</td>\n",
       "      <td>NaN</td>\n",
       "    </tr>\n",
       "    <tr>\n",
       "      <th>336773</th>\n",
       "      <td>NaN</td>\n",
       "      <td>NaN</td>\n",
       "      <td>NaN</td>\n",
       "      <td>NaN</td>\n",
       "    </tr>\n",
       "    <tr>\n",
       "      <th>336774</th>\n",
       "      <td>NaN</td>\n",
       "      <td>NaN</td>\n",
       "      <td>NaN</td>\n",
       "      <td>NaN</td>\n",
       "    </tr>\n",
       "    <tr>\n",
       "      <th>336775</th>\n",
       "      <td>NaN</td>\n",
       "      <td>NaN</td>\n",
       "      <td>NaN</td>\n",
       "      <td>NaN</td>\n",
       "    </tr>\n",
       "  </tbody>\n",
       "</table>\n",
       "<p>336776 rows × 4 columns</p>\n",
       "</div>"
      ],
      "text/plain": [
       "        dep_time  dep_delay  arr_time  arr_delay\n",
       "0          517.0        2.0     830.0       11.0\n",
       "1          533.0        4.0     850.0       20.0\n",
       "2          542.0        2.0     923.0       33.0\n",
       "3          544.0       -1.0    1004.0      -18.0\n",
       "4          554.0       -6.0     812.0      -25.0\n",
       "...          ...        ...       ...        ...\n",
       "336771       NaN        NaN       NaN        NaN\n",
       "336772       NaN        NaN       NaN        NaN\n",
       "336773       NaN        NaN       NaN        NaN\n",
       "336774       NaN        NaN       NaN        NaN\n",
       "336775       NaN        NaN       NaN        NaN\n",
       "\n",
       "[336776 rows x 4 columns]"
      ]
     },
     "execution_count": 300,
     "metadata": {},
     "output_type": "execute_result"
    }
   ],
   "source": [
    "# Notación de Corchetes:\n",
    "a1 = df[['dep_time', 'dep_delay', 'arr_time', 'arr_delay']]\n",
    "\n",
    "# Método loc (ubicación):\n",
    "df.loc[:, ['dep_time', 'dep_delay', 'arr_time', 'arr_delay']]\n",
    "\n",
    "# Método iloc (indexación basada en posición):\n",
    "df.iloc[:, [4, 6, 7, 9]]\n",
    "\n",
    "# Método filter (filtrado):\n",
    "df.filter(items=['dep_time', 'dep_delay', 'arr_time', 'arr_delay'])\n",
    "\n",
    "# Combinación de Indexación y Notación de Punto:\n",
    "df[['dep_time', 'dep_delay', 'arr_time', 'arr_delay']]\n",
    "\n",
    "# Método loc con Slicing para Todas las Filas:\n",
    "df.loc[:, 'dep_time':'arr_delay']\n",
    "\n",
    "# Usando at para Seleccionar Columnas Específicas:\n",
    "df.loc[:, ['dep_time', 'dep_delay', 'arr_time', 'arr_delay']]\n",
    "\n",
    "# Método xs (Seleccionar por Nombre de Columna):\n",
    "df.xs(['dep_time', 'dep_delay', 'arr_time', 'arr_delay'], axis=1)\n",
    "\n",
    "# Usando el Método get para Seleccionar Columnas:\n",
    "df.get(['dep_time', 'dep_delay', 'arr_time', 'arr_delay'])\n",
    "\n",
    "# Método reindex para Seleccionar Columnas Específicas:\n",
    "df.reindex(columns=['dep_time', 'dep_delay', 'arr_time', 'arr_delay'])\n"
   ]
  },
  {
   "cell_type": "markdown",
   "metadata": {},
   "source": [
    "## Sort columns"
   ]
  },
  {
   "cell_type": "markdown",
   "metadata": {},
   "source": [
    "6. Sort flights to find the most delayed flights by arrival time. Hint: End your code with head(1) to only print that row."
   ]
  },
  {
   "cell_type": "code",
   "execution_count": 9,
   "metadata": {},
   "outputs": [
    {
     "data": {
      "text/html": [
       "<div>\n",
       "<style scoped>\n",
       "    .dataframe tbody tr th:only-of-type {\n",
       "        vertical-align: middle;\n",
       "    }\n",
       "\n",
       "    .dataframe tbody tr th {\n",
       "        vertical-align: top;\n",
       "    }\n",
       "\n",
       "    .dataframe thead th {\n",
       "        text-align: right;\n",
       "    }\n",
       "</style>\n",
       "<table border=\"1\" class=\"dataframe\">\n",
       "  <thead>\n",
       "    <tr style=\"text-align: right;\">\n",
       "      <th></th>\n",
       "      <th>Unnamed: 0</th>\n",
       "      <th>year</th>\n",
       "      <th>month</th>\n",
       "      <th>day</th>\n",
       "      <th>dep_time</th>\n",
       "      <th>sched_dep_time</th>\n",
       "      <th>dep_delay</th>\n",
       "      <th>arr_time</th>\n",
       "      <th>sched_arr_time</th>\n",
       "      <th>arr_delay</th>\n",
       "      <th>carrier</th>\n",
       "      <th>flight</th>\n",
       "      <th>tailnum</th>\n",
       "      <th>origin</th>\n",
       "      <th>dest</th>\n",
       "      <th>air_time</th>\n",
       "      <th>distance</th>\n",
       "      <th>hour</th>\n",
       "      <th>minute</th>\n",
       "      <th>time_hour</th>\n",
       "    </tr>\n",
       "  </thead>\n",
       "  <tbody>\n",
       "    <tr>\n",
       "      <th>89673</th>\n",
       "      <td>89674</td>\n",
       "      <td>2013</td>\n",
       "      <td>12</td>\n",
       "      <td>7</td>\n",
       "      <td>2040.0</td>\n",
       "      <td>2123</td>\n",
       "      <td>-43.0</td>\n",
       "      <td>40.0</td>\n",
       "      <td>2352</td>\n",
       "      <td>48.0</td>\n",
       "      <td>B6</td>\n",
       "      <td>97</td>\n",
       "      <td>N592JB</td>\n",
       "      <td>JFK</td>\n",
       "      <td>DEN</td>\n",
       "      <td>265.0</td>\n",
       "      <td>1626</td>\n",
       "      <td>21</td>\n",
       "      <td>23</td>\n",
       "      <td>2013-12-07 21:00:00</td>\n",
       "    </tr>\n",
       "  </tbody>\n",
       "</table>\n",
       "</div>"
      ],
      "text/plain": [
       "       Unnamed: 0  year  month  day  dep_time  sched_dep_time  dep_delay  \\\n",
       "89673       89674  2013     12    7    2040.0            2123      -43.0   \n",
       "\n",
       "       arr_time  sched_arr_time  arr_delay carrier  flight tailnum origin  \\\n",
       "89673      40.0            2352       48.0      B6      97  N592JB    JFK   \n",
       "\n",
       "      dest  air_time  distance  hour  minute            time_hour  \n",
       "89673  DEN     265.0      1626    21      23  2013-12-07 21:00:00  "
      ]
     },
     "execution_count": 9,
     "metadata": {},
     "output_type": "execute_result"
    }
   ],
   "source": [
    "# Solution\n",
    "ex6 = df.sort_values(by='dep_delay',ascending=True)\n",
    "ex6.head(1)\n"
   ]
  },
  {
   "cell_type": "markdown",
   "metadata": {},
   "source": [
    "7. Find the top 5 flights that left earliest relative to their scheduled departure. Only show the tail number, date and number of minutes early they departed at."
   ]
  },
  {
   "cell_type": "code",
   "execution_count": 10,
   "metadata": {},
   "outputs": [
    {
     "data": {
      "text/html": [
       "<div>\n",
       "<style scoped>\n",
       "    .dataframe tbody tr th:only-of-type {\n",
       "        vertical-align: middle;\n",
       "    }\n",
       "\n",
       "    .dataframe tbody tr th {\n",
       "        vertical-align: top;\n",
       "    }\n",
       "\n",
       "    .dataframe thead th {\n",
       "        text-align: right;\n",
       "    }\n",
       "</style>\n",
       "<table border=\"1\" class=\"dataframe\">\n",
       "  <thead>\n",
       "    <tr style=\"text-align: right;\">\n",
       "      <th></th>\n",
       "      <th>tailnum</th>\n",
       "      <th>year</th>\n",
       "      <th>month</th>\n",
       "      <th>day</th>\n",
       "      <th>dep_delay</th>\n",
       "    </tr>\n",
       "  </thead>\n",
       "  <tbody>\n",
       "    <tr>\n",
       "      <th>89673</th>\n",
       "      <td>N592JB</td>\n",
       "      <td>2013</td>\n",
       "      <td>12</td>\n",
       "      <td>7</td>\n",
       "      <td>-43.0</td>\n",
       "    </tr>\n",
       "    <tr>\n",
       "      <th>113633</th>\n",
       "      <td>N612DL</td>\n",
       "      <td>2013</td>\n",
       "      <td>2</td>\n",
       "      <td>3</td>\n",
       "      <td>-33.0</td>\n",
       "    </tr>\n",
       "    <tr>\n",
       "      <th>64501</th>\n",
       "      <td>N825AS</td>\n",
       "      <td>2013</td>\n",
       "      <td>11</td>\n",
       "      <td>10</td>\n",
       "      <td>-32.0</td>\n",
       "    </tr>\n",
       "    <tr>\n",
       "      <th>9619</th>\n",
       "      <td>N934DL</td>\n",
       "      <td>2013</td>\n",
       "      <td>1</td>\n",
       "      <td>11</td>\n",
       "      <td>-30.0</td>\n",
       "    </tr>\n",
       "    <tr>\n",
       "      <th>24915</th>\n",
       "      <td>N208FR</td>\n",
       "      <td>2013</td>\n",
       "      <td>1</td>\n",
       "      <td>29</td>\n",
       "      <td>-27.0</td>\n",
       "    </tr>\n",
       "  </tbody>\n",
       "</table>\n",
       "</div>"
      ],
      "text/plain": [
       "       tailnum  year  month  day  dep_delay\n",
       "89673   N592JB  2013     12    7      -43.0\n",
       "113633  N612DL  2013      2    3      -33.0\n",
       "64501   N825AS  2013     11   10      -32.0\n",
       "9619    N934DL  2013      1   11      -30.0\n",
       "24915   N208FR  2013      1   29      -27.0"
      ]
     },
     "execution_count": 10,
     "metadata": {},
     "output_type": "execute_result"
    }
   ],
   "source": [
    "# Filtrar los vuelos que salieron antes\n",
    "earliest_dep = df[df['dep_delay'] < 0]\n",
    "\n",
    "\n",
    "new_data = earliest_dep[['tailnum', 'year', 'month', 'day', 'dep_delay']]\n",
    "\n",
    "# ordenar\n",
    "ex7 = new_data.sort_values(by='dep_delay').head(5)\n",
    "ex7"
   ]
  },
  {
   "cell_type": "markdown",
   "metadata": {},
   "source": [
    "8. How could you sort all missing values to the start? "
   ]
  },
  {
   "cell_type": "code",
   "execution_count": 303,
   "metadata": {},
   "outputs": [
    {
     "data": {
      "text/html": [
       "<div>\n",
       "<style scoped>\n",
       "    .dataframe tbody tr th:only-of-type {\n",
       "        vertical-align: middle;\n",
       "    }\n",
       "\n",
       "    .dataframe tbody tr th {\n",
       "        vertical-align: top;\n",
       "    }\n",
       "\n",
       "    .dataframe thead th {\n",
       "        text-align: right;\n",
       "    }\n",
       "</style>\n",
       "<table border=\"1\" class=\"dataframe\">\n",
       "  <thead>\n",
       "    <tr style=\"text-align: right;\">\n",
       "      <th></th>\n",
       "      <th>tailnum</th>\n",
       "      <th>year</th>\n",
       "      <th>month</th>\n",
       "      <th>day</th>\n",
       "      <th>dep_delay</th>\n",
       "    </tr>\n",
       "  </thead>\n",
       "  <tbody>\n",
       "    <tr>\n",
       "      <th>89673</th>\n",
       "      <td>N592JB</td>\n",
       "      <td>2013</td>\n",
       "      <td>12</td>\n",
       "      <td>7</td>\n",
       "      <td>-43.0</td>\n",
       "    </tr>\n",
       "    <tr>\n",
       "      <th>113633</th>\n",
       "      <td>N612DL</td>\n",
       "      <td>2013</td>\n",
       "      <td>2</td>\n",
       "      <td>3</td>\n",
       "      <td>-33.0</td>\n",
       "    </tr>\n",
       "    <tr>\n",
       "      <th>64501</th>\n",
       "      <td>N825AS</td>\n",
       "      <td>2013</td>\n",
       "      <td>11</td>\n",
       "      <td>10</td>\n",
       "      <td>-32.0</td>\n",
       "    </tr>\n",
       "    <tr>\n",
       "      <th>9619</th>\n",
       "      <td>N934DL</td>\n",
       "      <td>2013</td>\n",
       "      <td>1</td>\n",
       "      <td>11</td>\n",
       "      <td>-30.0</td>\n",
       "    </tr>\n",
       "    <tr>\n",
       "      <th>24915</th>\n",
       "      <td>N208FR</td>\n",
       "      <td>2013</td>\n",
       "      <td>1</td>\n",
       "      <td>29</td>\n",
       "      <td>-27.0</td>\n",
       "    </tr>\n",
       "  </tbody>\n",
       "</table>\n",
       "</div>"
      ],
      "text/plain": [
       "       tailnum  year  month  day  dep_delay\n",
       "89673   N592JB  2013     12    7      -43.0\n",
       "113633  N612DL  2013      2    3      -33.0\n",
       "64501   N825AS  2013     11   10      -32.0\n",
       "9619    N934DL  2013      1   11      -30.0\n",
       "24915   N208FR  2013      1   29      -27.0"
      ]
     },
     "execution_count": 303,
     "metadata": {},
     "output_type": "execute_result"
    }
   ],
   "source": [
    "# Solution\n",
    "ex8 = new_data.sort_values(by='dep_delay',ascending=True, na_position='first').head(5)\n",
    "ex8"
   ]
  },
  {
   "cell_type": "markdown",
   "metadata": {},
   "source": [
    "## Add new variables "
   ]
  },
  {
   "cell_type": "markdown",
   "metadata": {},
   "source": [
    "9. Currently `dep_time` and `arr_time` are convenient to look at, but hard to compute with because they’re not really continuous numbers. Convert them to number of minutes since midnight in new vars called `arr_time_min` and `dep_time_min`"
   ]
  },
  {
   "cell_type": "code",
   "execution_count": 304,
   "metadata": {},
   "outputs": [
    {
     "data": {
      "text/plain": [
       "<matplotlib.collections.PathCollection at 0x2358cfbcd30>"
      ]
     },
     "execution_count": 304,
     "metadata": {},
     "output_type": "execute_result"
    },
    {
     "data": {
      "image/png": "[encoded data removed]",
      "text/plain": [
       "<Figure size 640x480 with 1 Axes>"
      ]
     },
     "metadata": {},
     "output_type": "display_data"
    }
   ],
   "source": [
    "plt.scatter(df['dep_time'], df['arr_time'])"
   ]
  },
  {
   "cell_type": "code",
   "execution_count": 305,
   "metadata": {},
   "outputs": [
    {
     "name": "stdout",
     "output_type": "stream",
     "text": [
      "        dep_time  arr_time\n",
      "0            300       300\n",
      "1            300       300\n",
      "2            300       300\n",
      "3            300       300\n",
      "4            360       360\n",
      "...          ...       ...\n",
      "336771       840       840\n",
      "336772      1320      1320\n",
      "336773       720       720\n",
      "336774       660       660\n",
      "336775       480       480\n",
      "\n",
      "[336776 rows x 2 columns]\n",
      "        dep_time  arr_time\n",
      "0            300       300\n",
      "1            300       300\n",
      "2            300       300\n",
      "3            300       300\n",
      "4            360       360\n",
      "...          ...       ...\n",
      "336771       840       840\n",
      "336772      1320      1320\n",
      "336773       720       720\n",
      "336774       660       660\n",
      "336775       480       480\n",
      "\n",
      "[336776 rows x 2 columns]\n"
     ]
    },
    {
     "data": {
      "text/plain": [
       "<matplotlib.collections.PathCollection at 0x2351a3e35e0>"
      ]
     },
     "execution_count": 305,
     "metadata": {},
     "output_type": "execute_result"
    },
    {
     "data": {
      "image/png": "[encoded data removed]",
      "text/plain": [
       "<Figure size 640x480 with 1 Axes>"
      ]
     },
     "metadata": {},
     "output_type": "display_data"
    }
   ],
   "source": [
    "# Solution\n",
    "\n",
    "# convertir las columnas dep_time y arr_time a formato de tiempo\n",
    "df['dep_time'] = pd.to_datetime(df['time_hour']).dt.hour * 60 + pd.to_datetime(df['time_hour']).dt.minute\n",
    "df['arr_time'] = pd.to_datetime(df['time_hour']).dt.hour * 60 + pd.to_datetime(df['time_hour']).dt.minute\n",
    "\n",
    "\n",
    "print(df[['dep_time', 'arr_time']])\n",
    "print(df[['dep_time', 'arr_time']])\n",
    "\n",
    "plt.scatter(df['dep_time'],df['arr_time'])"
   ]
  },
  {
   "cell_type": "code",
   "execution_count": null,
   "metadata": {},
   "outputs": [],
   "source": [
    "# Grading: -1"
   ]
  },
  {
   "cell_type": "markdown",
   "metadata": {},
   "source": [
    "10. Make a plot to compare `air_time` with `arr_time_min` - `dep_time_min`"
   ]
  },
  {
   "cell_type": "code",
   "execution_count": 11,
   "metadata": {},
   "outputs": [
    {
     "data": {
      "image/png": "[encoded data removed]",
      "text/plain": [
       "<Figure size 640x480 with 1 Axes>"
      ]
     },
     "metadata": {},
     "output_type": "display_data"
    },
    {
     "data": {
      "image/png": "[encoded data removed]",
      "text/plain": [
       "<Figure size 640x480 with 1 Axes>"
      ]
     },
     "metadata": {},
     "output_type": "display_data"
    },
    {
     "data": {
      "image/png": "[encoded data removed]",
      "text/plain": [
       "<Figure size 640x480 with 1 Axes>"
      ]
     },
     "metadata": {},
     "output_type": "display_data"
    },
    {
     "ename": "ModuleNotFoundError",
     "evalue": "No module named 'scipy'",
     "output_type": "error",
     "traceback": [
      "\u001b[0;31m---------------------------------------------------------------------------\u001b[0m",
      "\u001b[0;31mModuleNotFoundError\u001b[0m                       Traceback (most recent call last)",
      "Cell \u001b[0;32mIn[11], line 37\u001b[0m\n\u001b[1;32m     32\u001b[0m plt\u001b[38;5;241m.\u001b[39mshow()\n\u001b[1;32m     36\u001b[0m \u001b[38;5;66;03m# Diagrama de densidad para air_time\u001b[39;00m\n\u001b[0;32m---> 37\u001b[0m \u001b[43mdf\u001b[49m\u001b[43m[\u001b[49m\u001b[38;5;124;43m'\u001b[39;49m\u001b[38;5;124;43mair_time\u001b[39;49m\u001b[38;5;124;43m'\u001b[39;49m\u001b[43m]\u001b[49m\u001b[38;5;241;43m.\u001b[39;49m\u001b[43mplot\u001b[49m\u001b[38;5;241;43m.\u001b[39;49m\u001b[43mkde\u001b[49m\u001b[43m(\u001b[49m\u001b[43m)\u001b[49m\n\u001b[1;32m     38\u001b[0m plt\u001b[38;5;241m.\u001b[39mtitle(\u001b[38;5;124m'\u001b[39m\u001b[38;5;124mDiagrama de densidad de air_time\u001b[39m\u001b[38;5;124m'\u001b[39m)\n\u001b[1;32m     39\u001b[0m plt\u001b[38;5;241m.\u001b[39mxlabel(\u001b[38;5;124m'\u001b[39m\u001b[38;5;124mTiempo de vuelo (air_time)\u001b[39m\u001b[38;5;124m'\u001b[39m)\n",
      "File \u001b[0;32m~/miniconda3/lib/python3.11/site-packages/pandas/plotting/_core.py:1525\u001b[0m, in \u001b[0;36mPlotAccessor.kde\u001b[0;34m(self, bw_method, ind, **kwargs)\u001b[0m\n\u001b[1;32m   1414\u001b[0m \u001b[38;5;28;01mdef\u001b[39;00m \u001b[38;5;21mkde\u001b[39m(\n\u001b[1;32m   1415\u001b[0m     \u001b[38;5;28mself\u001b[39m,\n\u001b[1;32m   1416\u001b[0m     bw_method: Literal[\u001b[38;5;124m\"\u001b[39m\u001b[38;5;124mscott\u001b[39m\u001b[38;5;124m\"\u001b[39m, \u001b[38;5;124m\"\u001b[39m\u001b[38;5;124msilverman\u001b[39m\u001b[38;5;124m\"\u001b[39m] \u001b[38;5;241m|\u001b[39m \u001b[38;5;28mfloat\u001b[39m \u001b[38;5;241m|\u001b[39m Callable \u001b[38;5;241m|\u001b[39m \u001b[38;5;28;01mNone\u001b[39;00m \u001b[38;5;241m=\u001b[39m \u001b[38;5;28;01mNone\u001b[39;00m,\n\u001b[1;32m   1417\u001b[0m     ind: np\u001b[38;5;241m.\u001b[39mndarray \u001b[38;5;241m|\u001b[39m \u001b[38;5;28mint\u001b[39m \u001b[38;5;241m|\u001b[39m \u001b[38;5;28;01mNone\u001b[39;00m \u001b[38;5;241m=\u001b[39m \u001b[38;5;28;01mNone\u001b[39;00m,\n\u001b[1;32m   1418\u001b[0m     \u001b[38;5;241m*\u001b[39m\u001b[38;5;241m*\u001b[39mkwargs,\n\u001b[1;32m   1419\u001b[0m ) \u001b[38;5;241m-\u001b[39m\u001b[38;5;241m>\u001b[39m PlotAccessor:\n\u001b[1;32m   1420\u001b[0m \u001b[38;5;250m    \u001b[39m\u001b[38;5;124;03m\"\"\"\u001b[39;00m\n\u001b[1;32m   1421\u001b[0m \u001b[38;5;124;03m    Generate Kernel Density Estimate plot using Gaussian kernels.\u001b[39;00m\n\u001b[1;32m   1422\u001b[0m \n\u001b[0;32m   (...)\u001b[0m\n\u001b[1;32m   1523\u001b[0m \u001b[38;5;124;03m        >>> ax = df.plot.kde(ind=[1, 2, 3, 4, 5, 6])\u001b[39;00m\n\u001b[1;32m   1524\u001b[0m \u001b[38;5;124;03m    \"\"\"\u001b[39;00m\n\u001b[0;32m-> 1525\u001b[0m     \u001b[38;5;28;01mreturn\u001b[39;00m \u001b[38;5;28;43mself\u001b[39;49m\u001b[43m(\u001b[49m\u001b[43mkind\u001b[49m\u001b[38;5;241;43m=\u001b[39;49m\u001b[38;5;124;43m\"\u001b[39;49m\u001b[38;5;124;43mkde\u001b[39;49m\u001b[38;5;124;43m\"\u001b[39;49m\u001b[43m,\u001b[49m\u001b[43m \u001b[49m\u001b[43mbw_method\u001b[49m\u001b[38;5;241;43m=\u001b[39;49m\u001b[43mbw_method\u001b[49m\u001b[43m,\u001b[49m\u001b[43m \u001b[49m\u001b[43mind\u001b[49m\u001b[38;5;241;43m=\u001b[39;49m\u001b[43mind\u001b[49m\u001b[43m,\u001b[49m\u001b[43m \u001b[49m\u001b[38;5;241;43m*\u001b[39;49m\u001b[38;5;241;43m*\u001b[39;49m\u001b[43mkwargs\u001b[49m\u001b[43m)\u001b[49m\n",
      "File \u001b[0;32m~/miniconda3/lib/python3.11/site-packages/pandas/plotting/_core.py:1031\u001b[0m, in \u001b[0;36mPlotAccessor.__call__\u001b[0;34m(self, *args, **kwargs)\u001b[0m\n\u001b[1;32m   1028\u001b[0m             label_name \u001b[38;5;241m=\u001b[39m label_kw \u001b[38;5;129;01mor\u001b[39;00m data\u001b[38;5;241m.\u001b[39mcolumns\n\u001b[1;32m   1029\u001b[0m             data\u001b[38;5;241m.\u001b[39mcolumns \u001b[38;5;241m=\u001b[39m label_name\n\u001b[0;32m-> 1031\u001b[0m \u001b[38;5;28;01mreturn\u001b[39;00m \u001b[43mplot_backend\u001b[49m\u001b[38;5;241;43m.\u001b[39;49m\u001b[43mplot\u001b[49m\u001b[43m(\u001b[49m\u001b[43mdata\u001b[49m\u001b[43m,\u001b[49m\u001b[43m \u001b[49m\u001b[43mkind\u001b[49m\u001b[38;5;241;43m=\u001b[39;49m\u001b[43mkind\u001b[49m\u001b[43m,\u001b[49m\u001b[43m \u001b[49m\u001b[38;5;241;43m*\u001b[39;49m\u001b[38;5;241;43m*\u001b[39;49m\u001b[43mkwargs\u001b[49m\u001b[43m)\u001b[49m\n",
      "File \u001b[0;32m~/miniconda3/lib/python3.11/site-packages/pandas/plotting/_matplotlib/__init__.py:71\u001b[0m, in \u001b[0;36mplot\u001b[0;34m(data, kind, **kwargs)\u001b[0m\n\u001b[1;32m     69\u001b[0m         kwargs[\u001b[38;5;124m\"\u001b[39m\u001b[38;5;124max\u001b[39m\u001b[38;5;124m\"\u001b[39m] \u001b[38;5;241m=\u001b[39m \u001b[38;5;28mgetattr\u001b[39m(ax, \u001b[38;5;124m\"\u001b[39m\u001b[38;5;124mleft_ax\u001b[39m\u001b[38;5;124m\"\u001b[39m, ax)\n\u001b[1;32m     70\u001b[0m plot_obj \u001b[38;5;241m=\u001b[39m PLOT_CLASSES[kind](data, \u001b[38;5;241m*\u001b[39m\u001b[38;5;241m*\u001b[39mkwargs)\n\u001b[0;32m---> 71\u001b[0m \u001b[43mplot_obj\u001b[49m\u001b[38;5;241;43m.\u001b[39;49m\u001b[43mgenerate\u001b[49m\u001b[43m(\u001b[49m\u001b[43m)\u001b[49m\n\u001b[1;32m     72\u001b[0m plot_obj\u001b[38;5;241m.\u001b[39mdraw()\n\u001b[1;32m     73\u001b[0m \u001b[38;5;28;01mreturn\u001b[39;00m plot_obj\u001b[38;5;241m.\u001b[39mresult\n",
      "File \u001b[0;32m~/miniconda3/lib/python3.11/site-packages/pandas/plotting/_matplotlib/core.py:453\u001b[0m, in \u001b[0;36mMPLPlot.generate\u001b[0;34m(self)\u001b[0m\n\u001b[1;32m    451\u001b[0m \u001b[38;5;28mself\u001b[39m\u001b[38;5;241m.\u001b[39m_compute_plot_data()\n\u001b[1;32m    452\u001b[0m \u001b[38;5;28mself\u001b[39m\u001b[38;5;241m.\u001b[39m_setup_subplots()\n\u001b[0;32m--> 453\u001b[0m \u001b[38;5;28;43mself\u001b[39;49m\u001b[38;5;241;43m.\u001b[39;49m\u001b[43m_make_plot\u001b[49m\u001b[43m(\u001b[49m\u001b[43m)\u001b[49m\n\u001b[1;32m    454\u001b[0m \u001b[38;5;28mself\u001b[39m\u001b[38;5;241m.\u001b[39m_add_table()\n\u001b[1;32m    455\u001b[0m \u001b[38;5;28mself\u001b[39m\u001b[38;5;241m.\u001b[39m_make_legend()\n",
      "File \u001b[0;32m~/miniconda3/lib/python3.11/site-packages/pandas/plotting/_matplotlib/hist.py:167\u001b[0m, in \u001b[0;36mHistPlot._make_plot\u001b[0;34m(self)\u001b[0m\n\u001b[1;32m    163\u001b[0m     kwds[\u001b[38;5;124m\"\u001b[39m\u001b[38;5;124mweights\u001b[39m\u001b[38;5;124m\"\u001b[39m] \u001b[38;5;241m=\u001b[39m weights\n\u001b[1;32m    165\u001b[0m y \u001b[38;5;241m=\u001b[39m reformat_hist_y_given_by(y, \u001b[38;5;28mself\u001b[39m\u001b[38;5;241m.\u001b[39mby)\n\u001b[0;32m--> 167\u001b[0m artists \u001b[38;5;241m=\u001b[39m \u001b[38;5;28;43mself\u001b[39;49m\u001b[38;5;241;43m.\u001b[39;49m\u001b[43m_plot\u001b[49m\u001b[43m(\u001b[49m\u001b[43max\u001b[49m\u001b[43m,\u001b[49m\u001b[43m \u001b[49m\u001b[43my\u001b[49m\u001b[43m,\u001b[49m\u001b[43m \u001b[49m\u001b[43mcolumn_num\u001b[49m\u001b[38;5;241;43m=\u001b[39;49m\u001b[43mi\u001b[49m\u001b[43m,\u001b[49m\u001b[43m \u001b[49m\u001b[43mstacking_id\u001b[49m\u001b[38;5;241;43m=\u001b[39;49m\u001b[43mstacking_id\u001b[49m\u001b[43m,\u001b[49m\u001b[43m \u001b[49m\u001b[38;5;241;43m*\u001b[39;49m\u001b[38;5;241;43m*\u001b[39;49m\u001b[43mkwds\u001b[49m\u001b[43m)\u001b[49m\n\u001b[1;32m    169\u001b[0m \u001b[38;5;66;03m# when by is applied, show title for subplots to know which group it is\u001b[39;00m\n\u001b[1;32m    170\u001b[0m \u001b[38;5;28;01mif\u001b[39;00m \u001b[38;5;28mself\u001b[39m\u001b[38;5;241m.\u001b[39mby \u001b[38;5;129;01mis\u001b[39;00m \u001b[38;5;129;01mnot\u001b[39;00m \u001b[38;5;28;01mNone\u001b[39;00m:\n",
      "File \u001b[0;32m~/miniconda3/lib/python3.11/site-packages/pandas/plotting/_matplotlib/hist.py:248\u001b[0m, in \u001b[0;36mKdePlot._plot\u001b[0;34m(cls, ax, y, style, bw_method, ind, column_num, stacking_id, **kwds)\u001b[0m\n\u001b[1;32m    236\u001b[0m \u001b[38;5;129m@classmethod\u001b[39m\n\u001b[1;32m    237\u001b[0m \u001b[38;5;28;01mdef\u001b[39;00m \u001b[38;5;21m_plot\u001b[39m(\n\u001b[1;32m    238\u001b[0m     \u001b[38;5;28mcls\u001b[39m,\n\u001b[0;32m   (...)\u001b[0m\n\u001b[1;32m    246\u001b[0m     \u001b[38;5;241m*\u001b[39m\u001b[38;5;241m*\u001b[39mkwds,\n\u001b[1;32m    247\u001b[0m ):\n\u001b[0;32m--> 248\u001b[0m     \u001b[38;5;28;01mfrom\u001b[39;00m \u001b[38;5;21;01mscipy\u001b[39;00m\u001b[38;5;21;01m.\u001b[39;00m\u001b[38;5;21;01mstats\u001b[39;00m \u001b[38;5;28;01mimport\u001b[39;00m gaussian_kde\n\u001b[1;32m    250\u001b[0m     y \u001b[38;5;241m=\u001b[39m remove_na_arraylike(y)\n\u001b[1;32m    251\u001b[0m     gkde \u001b[38;5;241m=\u001b[39m gaussian_kde(y, bw_method\u001b[38;5;241m=\u001b[39mbw_method)\n",
      "\u001b[0;31mModuleNotFoundError\u001b[0m: No module named 'scipy'"
     ]
    },
    {
     "data": {
      "image/png": "[encoded data removed]",
      "text/plain": [
       "<Figure size 640x480 with 1 Axes>"
      ]
     },
     "metadata": {},
     "output_type": "display_data"
    }
   ],
   "source": [
    "# Solution\n",
    "\n",
    "import matplotlib.pyplot as plt\n",
    "\n",
    "# diferencia entre arr_time_min y dep_time_min\n",
    "df['time_difference'] = df['arr_time'] - df['dep_time']\n",
    "\n",
    "# gráfico de dispersión para comparar air_time con la diferencia de tiempo\n",
    "#plt.scatter(df['air_time'], df['time_difference'])\n",
    "plt.scatter(df['air_time'], df['time_difference'], c=['blue' if pd.notna(x) else 'red' for x in df['air_time']])\n",
    "plt.title('Comparación entre air_time y diferencia de tiempo')\n",
    "plt.xlabel('Tiempo de vuelo (air_time)')\n",
    "plt.ylabel('Diferencia de tiempo (arr_time_min - dep_time_min)')\n",
    "#plt.ylim([-0.01, 0.01])\n",
    "plt.show()\n",
    "\n",
    "\n",
    "# Histograma para air_time\n",
    "plt.hist(df['air_time'], bins=30, alpha=0.5, label='air_time')\n",
    "plt.legend()\n",
    "plt.title('Distribución de air_time')\n",
    "plt.xlabel('Tiempo de vuelo (air_time)')\n",
    "plt.ylabel('Frecuencia')\n",
    "plt.show()\n",
    "\n",
    "# Histograma para arr_time_min - dep_time_min\n",
    "plt.hist(df['time_difference'], bins=30, alpha=0.5, label='arr_time_min - dep_time_min')\n",
    "plt.legend()\n",
    "plt.title('Distribución de la diferencia de tiempo')\n",
    "plt.xlabel('Diferencia de tiempo (arr_time_min - dep_time_min)')\n",
    "plt.ylabel('Frecuencia')\n",
    "plt.show()\n",
    "\n",
    "\n",
    "\n",
    "# Diagrama de densidad para air_time\n",
    "df['air_time'].plot.kde()\n",
    "plt.title('Diagrama de densidad de air_time')\n",
    "plt.xlabel('Tiempo de vuelo (air_time)')\n",
    "plt.show()\n",
    "\n"
   ]
  },
  {
   "cell_type": "markdown",
   "metadata": {},
   "source": [
    "11. We expect `air_time` and `arr_time_min` - `dep_time_min` to be the same, but they’re not. Why not?\n",
    "Identify a major data issue and subtle one."
   ]
  },
  {
   "cell_type": "code",
   "execution_count": 307,
   "metadata": {},
   "outputs": [
    {
     "data": {
      "image/png": "[encoded data removed]",
      "text/plain": [
       "<Figure size 640x480 with 1 Axes>"
      ]
     },
     "metadata": {},
     "output_type": "display_data"
    },
    {
     "name": "stdout",
     "output_type": "stream",
     "text": [
      "Unnamed: 0                           1\n",
      "year                              2013\n",
      "month                                1\n",
      "day                                  1\n",
      "dep_time                           300\n",
      "sched_dep_time                     515\n",
      "dep_delay                          2.0\n",
      "arr_time                           300\n",
      "sched_arr_time                     819\n",
      "arr_delay                         11.0\n",
      "carrier                             UA\n",
      "flight                            1545\n",
      "tailnum                         N14228\n",
      "origin                             EWR\n",
      "dest                               IAH\n",
      "air_time                         227.0\n",
      "distance                          1400\n",
      "hour                                 5\n",
      "minute                              15\n",
      "time_hour          2013-01-01 05:00:00\n",
      "time_difference                      0\n",
      "Name: 0, dtype: object\n"
     ]
    }
   ],
   "source": [
    "# Solution\n",
    "# Filtrar los datos para excluir valores nulos en air_time, dep_time o arr_time\n",
    "filter = df.dropna(subset=['air_time', 'dep_time', 'arr_time'])\n",
    "\n",
    "\n",
    "# Luego, realiza el análisis con los datos filtrados\n",
    "\n",
    "# diferencia entre arr_time_min y dep_time_min\n",
    "df['time_difference'] = df['arr_time'] - df['dep_time']\n",
    "\n",
    "# gráfico de dispersión para comparar air_time con la diferencia de tiempo\n",
    "#plt.scatter(df['air_time'], df['time_difference'])\n",
    "plt.scatter(df['air_time'], df['time_difference'], c=['blue' if pd.notna(x) else 'red' for x in df['air_time']])\n",
    "plt.title('Comparación entre air_time y diferencia de tiempo')\n",
    "plt.xlabel('Tiempo de vuelo (air_time)')\n",
    "plt.ylabel('Diferencia de tiempo (arr_time_min - dep_time_min)')\n",
    "#plt.ylim([-0.01, 0.01])\n",
    "plt.show()\n",
    "\n",
    "#  índices de registros con mayores diferencias\n",
    "max_difference_indices = (df['arr_time'] - df['dep_time']).abs().idxmax()\n",
    "print(df.loc[max_difference_indices])"
   ]
  },
  {
   "cell_type": "code",
   "execution_count": 308,
   "metadata": {},
   "outputs": [
    {
     "data": {
      "image/png": "[encoded data removed]",
      "text/plain": [
       "<Figure size 640x480 with 1 Axes>"
      ]
     },
     "metadata": {},
     "output_type": "display_data"
    },
    {
     "data": {
      "image/png": "[encoded data removed]",
      "text/plain": [
       "<Figure size 640x480 with 1 Axes>"
      ]
     },
     "metadata": {},
     "output_type": "display_data"
    }
   ],
   "source": [
    "# Histograma para air_time\n",
    "plt.hist(df['air_time'].dropna(), bins=50, alpha=0.5, label='air_time')\n",
    "plt.legend()\n",
    "plt.show()\n",
    "\n",
    "# Histograma para arr_time_min - dep_time_min\n",
    "plt.hist(df['arr_time'] - df['dep_time'], bins=50, alpha=0.5, label='arr_time - dep_time')\n",
    "plt.legend()\n",
    "plt.show()\n"
   ]
  },
  {
   "cell_type": "markdown",
   "metadata": {},
   "source": [
    "12. Implement your fix to the major probelm. Remake the plot from the previous question."
   ]
  },
  {
   "cell_type": "code",
   "execution_count": 309,
   "metadata": {},
   "outputs": [
    {
     "name": "stdout",
     "output_type": "stream",
     "text": [
      "Valores faltantes en arr_time_min: 0\n",
      "Valores faltantes en dep_time_min: 0\n"
     ]
    },
    {
     "data": {
      "image/png": "[encoded data removed]",
      "text/plain": [
       "<Figure size 640x480 with 1 Axes>"
      ]
     },
     "metadata": {},
     "output_type": "display_data"
    }
   ],
   "source": [
    "# Solution\n",
    "\n",
    "# Verificar la presencia de valores faltantes\n",
    "print(\"Valores faltantes en arr_time_min:\", df['arr_time'].isnull().sum())\n",
    "print(\"Valores faltantes en dep_time_min:\", df['dep_time'].isnull().sum())\n",
    "\n",
    "# Verificar la distribución de arr_time_min - dep_time_min excluyendo los valores faltantes\n",
    "non_null_differences = (df['arr_time'] - df['dep_time']).dropna()\n",
    "\n",
    "plt.hist(non_null_differences, bins=50, alpha=0.5, label='arr_time_min - dep_time_min')\n",
    "plt.title('Distribución de arr_time_min - dep_time_min (excluyendo valores faltantes)')\n",
    "plt.xlabel('Diferencia de tiempo (minutos)')\n",
    "plt.ylabel('Frecuencia')\n",
    "plt.legend()\n",
    "plt.show()\n",
    "\n",
    "\n"
   ]
  },
  {
   "cell_type": "code",
   "execution_count": null,
   "metadata": {},
   "outputs": [],
   "source": [
    "#Grading: -1"
   ]
  },
  {
   "cell_type": "markdown",
   "metadata": {},
   "source": [
    "13. Find the 10 most delayed flights "
   ]
  },
  {
   "cell_type": "code",
   "execution_count": 310,
   "metadata": {},
   "outputs": [
    {
     "name": "stdout",
     "output_type": "stream",
     "text": [
      "       carrier  flight  dep_delay\n",
      "7072        HA      51     1301.0\n",
      "235778      MQ    3535     1137.0\n",
      "8239        MQ    3695     1126.0\n",
      "327043      AA     177     1014.0\n",
      "270376      MQ    3075     1005.0\n",
      "173992      DL    2391      960.0\n",
      "151974      DL    2119      911.0\n",
      "247040      DL    2007      899.0\n",
      "270987      DL    2047      898.0\n",
      "87238       AA     172      896.0\n"
     ]
    }
   ],
   "source": [
    "# Solution\n",
    "\n",
    "\n",
    "mdf = df.sort_values(by='dep_delay', ascending=False)\n",
    "\n",
    "\n",
    "top = mdf.head(10)\n",
    "\n",
    "# Imprimir el resultado\n",
    "print(top[['carrier', 'flight', 'dep_delay']])\n"
   ]
  },
  {
   "cell_type": "markdown",
   "metadata": {},
   "source": [
    "## Summarizing grouped data"
   ]
  },
  {
   "cell_type": "markdown",
   "metadata": {},
   "source": [
    "14. Calculate average delays by destination for flights originating in NYC. Create a variable which ranks destinations from worst to best, where 1 is the worst rank."
   ]
  },
  {
   "cell_type": "code",
   "execution_count": 311,
   "metadata": {},
   "outputs": [
    {
     "data": {
      "text/plain": [
       "Index(['Unnamed: 0', 'year', 'month', 'day', 'dep_time', 'sched_dep_time',\n",
       "       'dep_delay', 'arr_time', 'sched_arr_time', 'arr_delay', 'carrier',\n",
       "       'flight', 'tailnum', 'origin', 'dest', 'air_time', 'distance', 'hour',\n",
       "       'minute', 'time_hour', 'time_difference'],\n",
       "      dtype='object')"
      ]
     },
     "execution_count": 311,
     "metadata": {},
     "output_type": "execute_result"
    }
   ],
   "source": [
    "df.columns"
   ]
  },
  {
   "cell_type": "code",
   "execution_count": 12,
   "metadata": {},
   "outputs": [
    {
     "name": "stdout",
     "output_type": "stream",
     "text": [
      "    dest  dep_delay   rank\n",
      "18   CAE  35.570093    1.0\n",
      "101  TUL  34.906355    2.0\n",
      "67   OKC  30.568807    3.0\n",
      "9    BHM  29.694853    4.0\n",
      "103  TYS  28.493955    5.0\n",
      "..   ...        ...    ...\n",
      "98   STT   4.613900  101.0\n",
      "34   EYW   3.647059  102.0\n",
      "77   PSP  -2.944444  103.0\n",
      "50   LEX  -9.000000  104.0\n",
      "51   LGA        NaN    NaN\n",
      "\n",
      "[105 rows x 3 columns]\n"
     ]
    }
   ],
   "source": [
    "# filtro de vuelos que tienen su origen en NYC\n",
    "nyc_flights = df[df['origin'].isin(['EWR', 'LGA', 'JFK'])]\n",
    "\n",
    "# retrasos promedio por destino\n",
    "average_delays = nyc_flights.groupby('dest')['dep_delay'].mean().reset_index()\n",
    "\n",
    "# nueva variable que contenga el rango de los destinos desde el peor hasta el mejor\n",
    "average_delays['rank'] = average_delays['dep_delay'].rank(ascending=False, method='min')\n",
    "\n",
    "# ordenar rango (del peor al mejor)\n",
    "average_delays = average_delays.sort_values(by='rank')\n",
    "\n",
    "print(average_delays[['dest', 'dep_delay', 'rank']])\n"
   ]
  },
  {
   "cell_type": "markdown",
   "metadata": {},
   "source": [
    "15. Which plane (`tailnum`) has the most minutes of delays total?"
   ]
  },
  {
   "cell_type": "code",
   "execution_count": 13,
   "metadata": {},
   "outputs": [
    {
     "name": "stdout",
     "output_type": "stream",
     "text": [
      "El avión con la mayor cantidad total de minutos de retraso es: N15910\n",
      "Total de minutos de retraso: 7758.0\n"
     ]
    }
   ],
   "source": [
    "# Solution\n",
    "\n",
    "# información de tiempo de salida y retraso de salida\n",
    "delayed_flights = df.dropna(subset=['dep_time', 'dep_delay'])\n",
    "\n",
    "#  la suma total de minutos de retraso por avión\n",
    "total_delay_by_plane = delayed_flights.groupby('tailnum')['dep_delay'].sum().reset_index()\n",
    "\n",
    "#  el avión con la mayor cantidad total de minutos de retraso\n",
    "most_delayed_plane = total_delay_by_plane.loc[total_delay_by_plane['dep_delay'].idxmax()]\n",
    "\n",
    "\n",
    "print(\"El avión con la mayor cantidad total de minutos de retraso es:\", most_delayed_plane['tailnum'])\n",
    "print(\"Total de minutos de retraso:\", most_delayed_plane['dep_delay'])\n"
   ]
  },
  {
   "cell_type": "markdown",
   "metadata": {},
   "source": [
    "16. Which airlines only offer flights from New York to one other airport?"
   ]
  },
  {
   "cell_type": "code",
   "execution_count": 14,
   "metadata": {},
   "outputs": [
    {
     "name": "stdout",
     "output_type": "stream",
     "text": [
      "Airlines that only offer flights from New York to one other airport:\n",
      "  carrier\n",
      "2      AS\n",
      "6      F9\n",
      "8      HA\n"
     ]
    }
   ],
   "source": [
    "# Solution\n",
    "\n",
    "# group by carrier and count unique destinations\n",
    "unique_destinations = df.groupby('carrier')['dest'].nunique().reset_index()\n",
    "\n",
    "# filter airlines that have only one unique destination\n",
    "airlines_with_one_destination = unique_destinations[unique_destinations['dest'] == 1]\n",
    "\n",
    "print(\"Airlines that only offer flights from New York to one other airport:\")\n",
    "print(airlines_with_one_destination[['carrier']])\n"
   ]
  },
  {
   "cell_type": "markdown",
   "metadata": {},
   "source": [
    "17. Calculate the median arrival delay by airline."
   ]
  },
  {
   "cell_type": "code",
   "execution_count": 15,
   "metadata": {},
   "outputs": [
    {
     "name": "stdout",
     "output_type": "stream",
     "text": [
      "Median arrival delay by airline:\n",
      "   carrier  arr_delay\n",
      "0       9E       -7.0\n",
      "1       AA       -9.0\n",
      "2       AS      -17.0\n",
      "3       B6       -3.0\n",
      "4       DL       -8.0\n",
      "5       EV       -1.0\n",
      "6       F9        6.0\n",
      "7       FL        5.0\n",
      "8       HA      -13.0\n",
      "9       MQ       -1.0\n",
      "10      OO       -7.0\n",
      "11      UA       -6.0\n",
      "12      US       -6.0\n",
      "13      VX       -9.0\n",
      "14      WN       -3.0\n",
      "15      YV       -2.0\n"
     ]
    }
   ],
   "source": [
    "# Solution\n",
    "\n",
    "# group by carrier and calculate the median arrival delay\n",
    "median_arrival_delay_by_airline = df.groupby('carrier')['arr_delay'].median().reset_index()\n",
    "\n",
    "print(\"Median arrival delay by airline:\")\n",
    "print(median_arrival_delay_by_airline[['carrier', 'arr_delay']])\n"
   ]
  },
  {
   "cell_type": "markdown",
   "metadata": {},
   "source": [
    "18. ExpressJet has a median arrival delay of -1 minutes while US Airways has a median arrival delay of -6 minutes. Does this tell you that US Airways is a more reliable airline? Why or why not?\n"
   ]
  },
  {
   "cell_type": "markdown",
   "metadata": {},
   "source": [
    "Solution\n",
    "\n",
    "\\textcolor{blue}{la mediana es solo un indicador y no proporciona una imagen completa de la confiabilidad de una aerolínea. Es importante considerar múltiples métricas y factores para obtener una evaluación más precisa de la confiabilidad de una aerolínea.}\n",
    "\n",
    "\n",
    "\n",
    "\n",
    "\n",
    "\n"
   ]
  },
  {
   "cell_type": "markdown",
   "metadata": {},
   "source": [
    "19. Median arrival delay may not be the best metric for our needs. Brainstorm at least 4 additional ways to assess the typical delay characteristics of a group of flights."
   ]
  },
  {
   "cell_type": "markdown",
   "metadata": {},
   "source": [
    " Solution\n",
    "\n",
    "Promedio de Retraso: A diferencia de la mediana, el promedio (media aritmética) puede proporcionar una imagen de la tendencia general de retrasos. Sin embargo, es sensible a los valores extremos.\n",
    "\n",
    "Porcentaje de Vuelos Puntuales: Determinar el porcentaje de vuelos que llegan a tiempo (sin retraso) puede ser una métrica útil para evaluar la puntualidad de una aerolínea.\n",
    "\n",
    "Desviación Estándar: La desviación estándar puede indicar la dispersión de los retrasos. Una desviación estándar más alta podría sugerir una mayor variabilidad en los tiempos de llegada.\n",
    "\n",
    "Histograma de Retrasos: Visualizar un histograma de los retrasos puede proporcionar una comprensión más detallada de la distribución de los tiempos de llegada y resaltar patrones específicos, como picos de retrasos.\n",
    "Evaluar las tendencias a lo largo del tiempo, como patrones estacionales o variaciones según el día de la semana, puede ofrecer información valiosa sobre la confiabilidad de una aerolínea.\n",
    "Análisis de Tendencias Temporales: "
   ]
  },
  {
   "cell_type": "markdown",
   "metadata": {},
   "source": [
    "20. Write a code which calculates your delay measures separately by airline. Do particular airlines perform poorly on multiple metrics?"
   ]
  },
  {
   "cell_type": "code",
   "execution_count": 16,
   "metadata": {},
   "outputs": [
    {
     "name": "stdout",
     "output_type": "stream",
     "text": [
      "         Average_Delay  On_Time_Percentage  Std_Dev_Delay\n",
      "carrier                                                  \n",
      "9E            7.379669            0.577302      50.086778\n",
      "AA            0.364291            0.648996      42.516182\n",
      "AS           -9.930889            0.728291      36.482633\n",
      "B6            9.457973            0.557152      42.842297\n",
      "DL            1.644341            0.649449      44.402289\n",
      "EV           15.796431            0.491463      49.861469\n",
      "F9           21.920705            0.421898      61.645997\n",
      "FL           20.115906            0.392638      54.087671\n",
      "HA           -6.915205            0.716374      75.129420\n",
      "MQ           10.774733            0.505512      43.174306\n",
      "OO           11.931034            0.593750      48.584926\n",
      "UA            3.558011            0.606154      40.984344\n",
      "US            2.129595            0.607811      33.066952\n",
      "VX            1.764464            0.652848      49.966450\n",
      "WN            9.649120            0.549084      46.877702\n",
      "YV           15.556985            0.475874      52.922234\n"
     ]
    }
   ],
   "source": [
    "# Solution\n",
    "\n",
    "# promedio de retraso por aerolínea\n",
    "prom = df.groupby('carrier')['arr_delay'].mean()\n",
    "\n",
    "# porcentaje de vuelos puntuales por aerolínea\n",
    "percent = df[df['arr_delay'] <= 0].groupby('carrier').size() / df.groupby('carrier').size()\n",
    "\n",
    "# desviación estándar de retraso por aerolínea\n",
    "std = df.groupby('carrier')['arr_delay'].std()\n",
    "\n",
    "# métricas \n",
    "metrics_by_airl = pd.DataFrame({\n",
    "    'Average_Delay': prom,\n",
    "    'On_Time_Percentage': percent,\n",
    "    'Std_Dev_Delay': std\n",
    "})\n",
    "\n",
    "\n",
    "print(metrics_by_airl)\n",
    "\n",
    "\n"
   ]
  }
 ],
 "metadata": {
  "hide_input": false,
  "kernelspec": {
   "display_name": "Python 3 (ipykernel)",
   "language": "python",
   "name": "python3"
  },
  "language_info": {
   "codemirror_mode": {
    "name": "ipython",
    "version": 3
   },
   "file_extension": ".py",
   "mimetype": "text/x-python",
   "name": "python",
   "nbconvert_exporter": "python",
   "pygments_lexer": "ipython3",
   "version": "3.11.7"
  },
  "toc": {
   "base_numbering": 1,
   "nav_menu": {},
   "number_sections": true,
   "sideBar": true,
   "skip_h1_title": false,
   "title_cell": "Table of Contents",
   "title_sidebar": "Contents",
   "toc_cell": false,
   "toc_position": {},
   "toc_section_display": true,
   "toc_window_display": false
  }
 },
 "nbformat": 4,
 "nbformat_minor": 4
}
